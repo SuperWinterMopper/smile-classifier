{
 "cells": [
  {
   "cell_type": "code",
   "execution_count": 1,
   "id": "239cbba7",
   "metadata": {},
   "outputs": [],
   "source": [
    "import sys \n",
    "\n",
    "sys.path.insert(0, '..')"
   ]
  },
  {
   "cell_type": "code",
   "execution_count": 13,
   "id": "54dc89d9",
   "metadata": {},
   "outputs": [],
   "source": [
    "import torch\n",
    "import torchvision\n",
    "from torchvision import transforms\n",
    "import torch.nn as nn\n",
    "from torch.utils.data import DataLoader, Subset\n",
    "import numpy as np\n",
    "import matplotlib.pyplot as plt\n",
    "\n",
    "from IPython.display import Image"
   ]
  },
  {
   "cell_type": "code",
   "execution_count": 14,
   "id": "8473a732",
   "metadata": {},
   "outputs": [
    {
     "name": "stdout",
     "output_type": "stream",
     "text": [
      "Train set: 162770\n",
      "Validation set: 19867\n",
      "Test set: 19962\n"
     ]
    }
   ],
   "source": [
    "image_path = './'\n",
    "\n",
    "celeba_train_dataset = torchvision.datasets.CelebA(image_path, split='train', target_type='attr', download=False)\n",
    "celeba_valid_dataset = torchvision.datasets.CelebA(image_path, split='valid', target_type='attr', download=False)\n",
    "celeba_test_dataset = torchvision.datasets.CelebA(image_path, split='test', target_type='attr', download=False)\n",
    "\n",
    "print('Train set:', len(celeba_train_dataset))\n",
    "print('Validation set:', len(celeba_valid_dataset))\n",
    "print('Test set:', len(celeba_test_dataset))"
   ]
  },
  {
   "cell_type": "code",
   "execution_count": 15,
   "id": "c3700c06",
   "metadata": {},
   "outputs": [],
   "source": [
    "# transformers to augment data to produce more trainable data\n",
    "\n",
    "get_smile = lambda attr: attr[31]\n",
    "\n",
    "transform_train = transforms.Compose([\n",
    "    transforms.RandomCrop([178, 178]),\n",
    "    transforms.RandomHorizontalFlip(),\n",
    "    transforms.Resize([64, 64]),\n",
    "    transforms.ToTensor(),\n",
    "])\n",
    "\n",
    "transform_test = transforms.Compose([\n",
    "    transforms.CenterCrop([178, 178]),\n",
    "    transforms.Resize([64, 64]),\n",
    "    transforms.ToTensor(),\n",
    "])"
   ]
  },
  {
   "cell_type": "code",
   "execution_count": 16,
   "id": "31a8c1db",
   "metadata": {},
   "outputs": [],
   "source": [
    "torch.manual_seed(1)\n",
    "\n",
    "celeba_train_dataset = torchvision.datasets.CelebA(image_path, split='train', target_type='attr', download=False, transform=transform_train, target_transform=get_smile)\n",
    "celeba_valid_dataset = torchvision.datasets.CelebA(image_path, split='valid', target_type='attr', download=False, transform=transform_test, target_transform=get_smile)\n",
    "celeba_test_dataset = torchvision.datasets.CelebA(image_path, split='test', target_type='attr', download=False, transform=transform_test, target_transform=get_smile)\n",
    "\n",
    "data_loader = DataLoader(celeba_train_dataset, batch_size=2)"
   ]
  },
  {
   "cell_type": "code",
   "execution_count": null,
   "id": "2bc87c1e",
   "metadata": {},
   "outputs": [],
   "source": [
    "\n",
    "# train on small dataset as a challenge\n",
    "celeba_train_dataset = Subset(celeba_train_dataset, torch.arange(20000))\n",
    "celeba_valid_dataset = Subset(celeba_valid_dataset, torch.arange(1000)) "
   ]
  },
  {
   "cell_type": "code",
   "execution_count": 18,
   "id": "c31571a6",
   "metadata": {},
   "outputs": [],
   "source": [
    "batch_size = 32\n",
    "\n",
    "train_dl = DataLoader(celeba_train_dataset, batch_size=batch_size, shuffle=True)\n",
    "valid_dl = DataLoader(celeba_valid_dataset, batch_size, shuffle=False)\n",
    "test_dl = DataLoader(celeba_test_dataset, batch_size, shuffle=False)"
   ]
  }
 ],
 "metadata": {
  "kernelspec": {
   "display_name": "DSP_ML",
   "language": "python",
   "name": "python3"
  },
  "language_info": {
   "codemirror_mode": {
    "name": "ipython",
    "version": 3
   },
   "file_extension": ".py",
   "mimetype": "text/x-python",
   "name": "python",
   "nbconvert_exporter": "python",
   "pygments_lexer": "ipython3",
   "version": "3.10.18"
  }
 },
 "nbformat": 4,
 "nbformat_minor": 5
}
