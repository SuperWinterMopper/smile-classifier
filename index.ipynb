{
 "cells": [
  {
   "cell_type": "code",
   "execution_count": 1,
   "id": "239cbba7",
   "metadata": {},
   "outputs": [],
   "source": [
    "import sys \n",
    "\n",
    "sys.path.insert(0, '..')"
   ]
  },
  {
   "cell_type": "code",
   "execution_count": 25,
   "id": "54dc89d9",
   "metadata": {},
   "outputs": [],
   "source": [
    "import torch\n",
    "import torchvision\n",
    "from torchvision import transforms\n",
    "import torch.nn as nn\n",
    "from torch.utils.data import DataLoader, Subset\n",
    "import numpy as np\n",
    "import matplotlib.pyplot as plt\n",
    "\n",
    "from IPython.display import Image"
   ]
  },
  {
   "cell_type": "code",
   "execution_count": 26,
   "id": "8473a732",
   "metadata": {},
   "outputs": [
    {
     "name": "stdout",
     "output_type": "stream",
     "text": [
      "Train set: 162770\n",
      "Validation set: 19867\n",
      "Test set: 19962\n"
     ]
    }
   ],
   "source": [
    "image_path = './'\n",
    "\n",
    "celeba_train_dataset = torchvision.datasets.CelebA(image_path, split='train', target_type='attr', download=False)\n",
    "celeba_valid_dataset = torchvision.datasets.CelebA(image_path, split='valid', target_type='attr', download=False)\n",
    "celeba_test_dataset = torchvision.datasets.CelebA(image_path, split='test', target_type='attr', download=False)\n",
    "\n",
    "print('Train set:', len(celeba_train_dataset))\n",
    "print('Validation set:', len(celeba_valid_dataset))\n",
    "print('Test set:', len(celeba_test_dataset))"
   ]
  },
  {
   "cell_type": "code",
   "execution_count": 27,
   "id": "c3700c06",
   "metadata": {},
   "outputs": [],
   "source": [
    "# transformers to augment data to produce more trainable data\n",
    "\n",
    "get_smile = lambda attr: attr[31]\n",
    "\n",
    "transform_train = transforms.Compose([\n",
    "    transforms.RandomCrop([178, 178]),\n",
    "    transforms.RandomHorizontalFlip(),\n",
    "    transforms.Resize([64, 64]),\n",
    "    transforms.ToTensor(),\n",
    "])\n",
    "\n",
    "transform_test = transforms.Compose([\n",
    "    transforms.CenterCrop([178, 178]),\n",
    "    transforms.Resize([64, 64]),\n",
    "    transforms.ToTensor(),\n",
    "])"
   ]
  },
  {
   "cell_type": "code",
   "execution_count": 28,
   "id": "31a8c1db",
   "metadata": {},
   "outputs": [],
   "source": [
    "torch.manual_seed(1)\n",
    "\n",
    "celeba_train_dataset = torchvision.datasets.CelebA(image_path, split='train', target_type='attr', download=False, transform=transform_train, target_transform=get_smile)\n",
    "celeba_valid_dataset = torchvision.datasets.CelebA(image_path, split='valid', target_type='attr', download=False, transform=transform_test, target_transform=get_smile)\n",
    "celeba_test_dataset = torchvision.datasets.CelebA(image_path, split='test', target_type='attr', download=False, transform=transform_test, target_transform=get_smile)\n",
    "\n",
    "data_loader = DataLoader(celeba_train_dataset, batch_size=2)"
   ]
  },
  {
   "cell_type": "code",
   "execution_count": 29,
   "id": "2bc87c1e",
   "metadata": {},
   "outputs": [],
   "source": [
    "\n",
    "# train on small dataset as a challenge\n",
    "celeba_train_dataset = Subset(celeba_train_dataset, torch.arange(20000))\n",
    "celeba_valid_dataset = Subset(celeba_valid_dataset, torch.arange(1000)) "
   ]
  },
  {
   "cell_type": "code",
   "execution_count": 30,
   "id": "c31571a6",
   "metadata": {},
   "outputs": [],
   "source": [
    "batch_size = 32\n",
    "\n",
    "train_dl = DataLoader(celeba_train_dataset, batch_size=batch_size, shuffle=True)\n",
    "valid_dl = DataLoader(celeba_valid_dataset, batch_size, shuffle=False)\n",
    "test_dl = DataLoader(celeba_test_dataset, batch_size, shuffle=False)"
   ]
  },
  {
   "cell_type": "code",
   "execution_count": 31,
   "id": "34236c1f",
   "metadata": {},
   "outputs": [],
   "source": [
    "model = nn.Sequential()\n",
    "\n",
    "model.add_module(name='conv1', module=nn.Conv2d(in_channels=3, out_channels=32, kernel_size=3, padding=1))\n",
    "model.add_module(name='relu1', module=nn.ReLU())\n",
    "model.add_module(name='pool1', module=nn.MaxPool2d(kernel_size=2))\n",
    "model.add_module(name='dropout1', module=nn.Dropout(p=.5))\n",
    "\n",
    "model.add_module(name='conv2', module=nn.Conv2d(in_channels=32, out_channels=64, kernel_size=3, padding=1))\n",
    "model.add_module(name='relu2', module=nn.ReLU())        \n",
    "model.add_module(name='pool2', module=nn.MaxPool2d(kernel_size=2))   \n",
    "model.add_module(name='dropout2', module=nn.Dropout(p=0.5)) \n",
    "\n",
    "model.add_module(name='conv3', module=nn.Conv2d(in_channels=64, out_channels=128, kernel_size=3, padding=1))\n",
    "model.add_module(name='relu3', module=nn.ReLU())        \n",
    "model.add_module(name='pool3', module=nn.MaxPool2d(kernel_size=2))   \n",
    "\n",
    "model.add_module(name='conv4', module=nn.Conv2d(in_channels=128, out_channels=256, kernel_size=3, padding=1))\n",
    "model.add_module(name='relu4', module=nn.ReLU())  "
   ]
  },
  {
   "cell_type": "code",
   "execution_count": 32,
   "id": "548355d5",
   "metadata": {},
   "outputs": [
    {
     "data": {
      "text/plain": [
       "torch.Size([4, 256])"
      ]
     },
     "execution_count": 32,
     "metadata": {},
     "output_type": "execute_result"
    }
   ],
   "source": [
    "model.add_module('pool4', nn.AvgPool2d(kernel_size=8)) \n",
    "model.add_module('flatten', nn.Flatten()) \n",
    "\n",
    "x = torch.ones((4, 3, 64, 64))\n",
    "model(x).shape\n"
   ]
  },
  {
   "cell_type": "code",
   "execution_count": 33,
   "id": "87e72849",
   "metadata": {},
   "outputs": [],
   "source": [
    "model.add_module(name='fc', module=nn.Linear(256, 1))\n",
    "model.add_module(name='sigmoid', module=nn.Sigmoid())"
   ]
  },
  {
   "cell_type": "code",
   "execution_count": 34,
   "id": "1f13f50d",
   "metadata": {},
   "outputs": [
    {
     "data": {
      "text/plain": [
       "torch.Size([4, 1])"
      ]
     },
     "execution_count": 34,
     "metadata": {},
     "output_type": "execute_result"
    }
   ],
   "source": [
    "x = torch.ones((4, 3, 64, 64))\n",
    "model(x).shape"
   ]
  },
  {
   "cell_type": "code",
   "execution_count": 35,
   "id": "91027f2f",
   "metadata": {},
   "outputs": [
    {
     "data": {
      "text/plain": [
       "Sequential(\n",
       "  (conv1): Conv2d(3, 32, kernel_size=(3, 3), stride=(1, 1), padding=(1, 1))\n",
       "  (relu1): ReLU()\n",
       "  (pool1): MaxPool2d(kernel_size=2, stride=2, padding=0, dilation=1, ceil_mode=False)\n",
       "  (dropout1): Dropout(p=0.5, inplace=False)\n",
       "  (conv2): Conv2d(32, 64, kernel_size=(3, 3), stride=(1, 1), padding=(1, 1))\n",
       "  (relu2): ReLU()\n",
       "  (pool2): MaxPool2d(kernel_size=2, stride=2, padding=0, dilation=1, ceil_mode=False)\n",
       "  (dropout2): Dropout(p=0.5, inplace=False)\n",
       "  (conv3): Conv2d(64, 128, kernel_size=(3, 3), stride=(1, 1), padding=(1, 1))\n",
       "  (relu3): ReLU()\n",
       "  (pool3): MaxPool2d(kernel_size=2, stride=2, padding=0, dilation=1, ceil_mode=False)\n",
       "  (conv4): Conv2d(128, 256, kernel_size=(3, 3), stride=(1, 1), padding=(1, 1))\n",
       "  (relu4): ReLU()\n",
       "  (pool4): AvgPool2d(kernel_size=8, stride=8, padding=0)\n",
       "  (flatten): Flatten(start_dim=1, end_dim=-1)\n",
       "  (fc): Linear(in_features=256, out_features=1, bias=True)\n",
       "  (sigmoid): Sigmoid()\n",
       ")"
      ]
     },
     "execution_count": 35,
     "metadata": {},
     "output_type": "execute_result"
    }
   ],
   "source": [
    "model"
   ]
  },
  {
   "cell_type": "code",
   "execution_count": 36,
   "id": "ed63e69e",
   "metadata": {},
   "outputs": [
    {
     "name": "stdout",
     "output_type": "stream",
     "text": [
      "Epoch 0, training accuracy: 0.5183, validation accuracy: 0.5140\n",
      "Epoch 1, training accuracy: 0.5255, validation accuracy: 0.5630\n",
      "Epoch 2, training accuracy: 0.5732, validation accuracy: 0.5880\n",
      "Epoch 3, training accuracy: 0.6106, validation accuracy: 0.6140\n",
      "Epoch 4, training accuracy: 0.6271, validation accuracy: 0.6070\n",
      "Epoch 5, training accuracy: 0.6490, validation accuracy: 0.6170\n",
      "Epoch 6, training accuracy: 0.6692, validation accuracy: 0.6160\n",
      "Epoch 7, training accuracy: 0.6760, validation accuracy: 0.6690\n",
      "Epoch 8, training accuracy: 0.6896, validation accuracy: 0.6670\n",
      "Epoch 9, training accuracy: 0.6984, validation accuracy: 0.6860\n",
      "Epoch 10, training accuracy: 0.7243, validation accuracy: 0.7590\n",
      "Epoch 11, training accuracy: 0.7550, validation accuracy: 0.7540\n",
      "Epoch 12, training accuracy: 0.7761, validation accuracy: 0.7940\n",
      "Epoch 13, training accuracy: 0.8005, validation accuracy: 0.8240\n",
      "Epoch 14, training accuracy: 0.8187, validation accuracy: 0.8310\n",
      "Epoch 15, training accuracy: 0.8288, validation accuracy: 0.8530\n",
      "Epoch 16, training accuracy: 0.8404, validation accuracy: 0.8660\n",
      "Epoch 17, training accuracy: 0.8470, validation accuracy: 0.8790\n",
      "Epoch 18, training accuracy: 0.8564, validation accuracy: 0.8740\n",
      "Epoch 19, training accuracy: 0.8615, validation accuracy: 0.8810\n",
      "Epoch 20, training accuracy: 0.8619, validation accuracy: 0.8810\n",
      "Epoch 21, training accuracy: 0.8704, validation accuracy: 0.8870\n",
      "Epoch 22, training accuracy: 0.8706, validation accuracy: 0.8850\n",
      "Epoch 23, training accuracy: 0.8747, validation accuracy: 0.8860\n",
      "Epoch 24, training accuracy: 0.8771, validation accuracy: 0.9000\n",
      "Epoch 25, training accuracy: 0.8788, validation accuracy: 0.8920\n",
      "Epoch 26, training accuracy: 0.8828, validation accuracy: 0.8960\n",
      "Epoch 27, training accuracy: 0.8816, validation accuracy: 0.8910\n",
      "Epoch 28, training accuracy: 0.8849, validation accuracy: 0.8970\n",
      "Epoch 29, training accuracy: 0.8838, validation accuracy: 0.8870\n",
      "Epoch 30, training accuracy: 0.8865, validation accuracy: 0.9000\n",
      "Epoch 31, training accuracy: 0.8890, validation accuracy: 0.8970\n",
      "Epoch 32, training accuracy: 0.8891, validation accuracy: 0.8990\n",
      "Epoch 33, training accuracy: 0.8878, validation accuracy: 0.9050\n",
      "Epoch 34, training accuracy: 0.8900, validation accuracy: 0.9010\n",
      "Epoch 35, training accuracy: 0.8944, validation accuracy: 0.9000\n",
      "Epoch 36, training accuracy: 0.8900, validation accuracy: 0.8990\n",
      "Epoch 37, training accuracy: 0.8922, validation accuracy: 0.9050\n",
      "Epoch 38, training accuracy: 0.8921, validation accuracy: 0.8940\n",
      "Epoch 39, training accuracy: 0.8945, validation accuracy: 0.9070\n",
      "Epoch 40, training accuracy: 0.8953, validation accuracy: 0.9020\n",
      "Epoch 41, training accuracy: 0.8944, validation accuracy: 0.8900\n",
      "Epoch 42, training accuracy: 0.8948, validation accuracy: 0.9050\n",
      "Epoch 43, training accuracy: 0.8950, validation accuracy: 0.9060\n",
      "Epoch 44, training accuracy: 0.8994, validation accuracy: 0.9000\n",
      "Epoch 45, training accuracy: 0.8981, validation accuracy: 0.8980\n",
      "Epoch 46, training accuracy: 0.8976, validation accuracy: 0.9050\n",
      "Epoch 47, training accuracy: 0.9000, validation accuracy: 0.8940\n",
      "Epoch 48, training accuracy: 0.9022, validation accuracy: 0.9030\n",
      "Epoch 49, training accuracy: 0.8995, validation accuracy: 0.9050\n"
     ]
    }
   ],
   "source": [
    "loss_fn = nn.BCELoss()\n",
    "optimizer = torch.optim.Adam(model.parameters(), lr=.001)\n",
    "\n",
    "def train(model, num_epochs, train_dl, valid_dl):\n",
    "    accuracy_hist_train = [0.0] * num_epochs\n",
    "    accuracy_hist_valid = [0.0] * num_epochs\n",
    "\n",
    "    for epoch in range(num_epochs):\n",
    "        model.train() # put in training mode\n",
    "        for x_batch, y_batch in train_dl:\n",
    "            pred = model(x_batch)[:, 0]\n",
    "            loss = loss_fn(pred, y_batch.float())\n",
    "            loss.backward()\n",
    "            optimizer.step()\n",
    "            optimizer.zero_grad()\n",
    "\n",
    "            is_correct = ((pred >= .5).float() == y_batch).sum()\n",
    "            accuracy_hist_train[epoch] += is_correct.item()\n",
    "        accuracy_hist_train[epoch] /= len(train_dl.dataset)\n",
    "\n",
    "        model.eval()\n",
    "        with torch.no_grad():\n",
    "            for x_batch, y_batch in valid_dl:\n",
    "                pred = model(x_batch)[:, 0]\n",
    "                loss = loss_fn(pred, y_batch.float())\n",
    "\n",
    "                is_correct = ((pred>=0.5).float() == y_batch).float()\n",
    "                accuracy_hist_valid[epoch] += is_correct.sum().cpu()\n",
    "        accuracy_hist_valid[epoch] /= len(valid_dl.dataset)\n",
    "        print(f'Epoch {epoch}, training accuracy: {accuracy_hist_train[epoch]:.4f}, validation accuracy: {accuracy_hist_valid[epoch]:.4f}')\n",
    "    return accuracy_hist_train, accuracy_hist_valid\n",
    "\n",
    "num_epochs = 50\n",
    "accuracy_hist_train, accuracy_hist_valid = train(model, num_epochs, train_dl, valid_dl) "
   ]
  },
  {
   "cell_type": "code",
   "execution_count": 37,
   "id": "174533a9",
   "metadata": {},
   "outputs": [
    {
     "data": {
      "image/png": "[encoded data removed]",
      "text/plain": [
       "<Figure size 640x480 with 1 Axes>"
      ]
     },
     "metadata": {},
     "output_type": "display_data"
    }
   ],
   "source": [
    "epochs = np.arange(1, num_epochs + 1)\n",
    "\n",
    "plt.title(\"Acccuracy over Epochs\")\n",
    "plt.xlabel(\"Epoch\")\n",
    "plt.ylabel(\"Accuracy\")\n",
    "plt.plot(epochs, accuracy_hist_train, '-o', label='Training acc.')\n",
    "plt.plot(epochs, accuracy_hist_valid, '--<', label='Validation acc.')\n",
    "\n",
    "plt.legend()\n",
    "plt.savefig('accuracy_over_epochs.png')"
   ]
  },
  {
   "cell_type": "code",
   "execution_count": 38,
   "id": "5c202b01",
   "metadata": {},
   "outputs": [
    {
     "name": "stdout",
     "output_type": "stream",
     "text": [
      "Test accuracy: 0.9148\n"
     ]
    }
   ],
   "source": [
    "test_accuracy = 0.0\n",
    "\n",
    "model.eval()\n",
    "with torch.no_grad():\n",
    "    for x_batch, y_batch in test_dl:\n",
    "        pred = model(x_batch)[:, 0]\n",
    "        is_correct = ((pred >= .5).float() == y_batch).float().sum()\n",
    "        test_accuracy += is_correct.item()\n",
    "test_accuracy /= len(test_dl.dataset)\n",
    "print(f'Test accuracy: {test_accuracy:.4f}')"
   ]
  }
 ],
 "metadata": {
  "kernelspec": {
   "display_name": "DSP_ML",
   "language": "python",
   "name": "python3"
  },
  "language_info": {
   "codemirror_mode": {
    "name": "ipython",
    "version": 3
   },
   "file_extension": ".py",
   "mimetype": "text/x-python",
   "name": "python",
   "nbconvert_exporter": "python",
   "pygments_lexer": "ipython3",
   "version": "3.10.18"
  }
 },
 "nbformat": 4,
 "nbformat_minor": 5
}
